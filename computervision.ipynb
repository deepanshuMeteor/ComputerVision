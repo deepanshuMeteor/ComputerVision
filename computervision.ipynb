{
  "cells": [
    {
      "metadata": {
        "trusted": true,
        "scrolled": true
      },
      "cell_type": "code",
      "source": "\n\n!pip install --upgrade azure-cognitiveservices-vision-computervision",
      "execution_count": 1,
      "outputs": [
        {
          "output_type": "stream",
          "text": "Collecting azure-cognitiveservices-vision-computervision\n  Downloading https://files.pythonhosted.org/packages/f2/de/03ddaffabd541829394fb6ee4615f642ed1a14438b4543a01ad58f7d222e/azure_cognitiveservices_vision_computervision-0.7.0-py2.py3-none-any.whl\nRequirement already satisfied, skipping upgrade: azure-common~=1.1 in /home/nbuser/anaconda3_501/lib/python3.6/site-packages (from azure-cognitiveservices-vision-computervision) (1.1.23)\nRequirement already satisfied, skipping upgrade: msrest>=0.5.0 in /home/nbuser/anaconda3_501/lib/python3.6/site-packages (from azure-cognitiveservices-vision-computervision) (0.6.10)\nRequirement already satisfied, skipping upgrade: isodate>=0.6.0 in /home/nbuser/anaconda3_501/lib/python3.6/site-packages (from msrest>=0.5.0->azure-cognitiveservices-vision-computervision) (0.6.0)\nRequirement already satisfied, skipping upgrade: certifi>=2017.4.17 in /home/nbuser/anaconda3_501/lib/python3.6/site-packages (from msrest>=0.5.0->azure-cognitiveservices-vision-computervision) (2018.10.15)\nRequirement already satisfied, skipping upgrade: requests~=2.16 in /home/nbuser/anaconda3_501/lib/python3.6/site-packages (from msrest>=0.5.0->azure-cognitiveservices-vision-computervision) (2.22.0)\nRequirement already satisfied, skipping upgrade: requests-oauthlib>=0.5.0 in /home/nbuser/anaconda3_501/lib/python3.6/site-packages (from msrest>=0.5.0->azure-cognitiveservices-vision-computervision) (1.3.0)\nRequirement already satisfied, skipping upgrade: six in /home/nbuser/anaconda3_501/lib/python3.6/site-packages (from isodate>=0.6.0->msrest>=0.5.0->azure-cognitiveservices-vision-computervision) (1.11.0)\nRequirement already satisfied, skipping upgrade: urllib3!=1.25.0,!=1.25.1,<1.26,>=1.21.1 in /home/nbuser/anaconda3_501/lib/python3.6/site-packages (from requests~=2.16->msrest>=0.5.0->azure-cognitiveservices-vision-computervision) (1.23)\nRequirement already satisfied, skipping upgrade: idna<2.9,>=2.5 in /home/nbuser/anaconda3_501/lib/python3.6/site-packages (from requests~=2.16->msrest>=0.5.0->azure-cognitiveservices-vision-computervision) (2.7)\nRequirement already satisfied, skipping upgrade: chardet<3.1.0,>=3.0.2 in /home/nbuser/anaconda3_501/lib/python3.6/site-packages (from requests~=2.16->msrest>=0.5.0->azure-cognitiveservices-vision-computervision) (3.0.4)\nRequirement already satisfied, skipping upgrade: oauthlib>=3.0.0 in /home/nbuser/anaconda3_501/lib/python3.6/site-packages (from requests-oauthlib>=0.5.0->msrest>=0.5.0->azure-cognitiveservices-vision-computervision) (3.1.0)\nInstalling collected packages: azure-cognitiveservices-vision-computervision\nSuccessfully installed azure-cognitiveservices-vision-computervision-0.7.0\n\u001b[33mWARNING: You are using pip version 19.3.1; however, version 20.2.3 is available.\nYou should consider upgrading via the 'pip install --upgrade pip' command.\u001b[0m\n",
          "name": "stdout"
        }
      ]
    },
    {
      "metadata": {
        "trusted": true
      },
      "cell_type": "code",
      "source": "from azure.cognitiveservices.vision.computervision import ComputerVisionClient\nfrom azure.cognitiveservices.vision.computervision.models import VisualFeatureTypes\nfrom msrest.authentication import CognitiveServicesCredentials\n\nfrom array import array\nimport os\nfrom PIL import Image\nimport sys\nimport time",
      "execution_count": 2,
      "outputs": []
    },
    {
      "metadata": {
        "trusted": true
      },
      "cell_type": "code",
      "source": "subscription_key = 'd8d9bfd6388e4222838dc595f1eeb241'\nendpoint = 'https://rotatopotato.cognitiveservices.azure.com/'",
      "execution_count": 3,
      "outputs": []
    },
    {
      "metadata": {
        "trusted": true
      },
      "cell_type": "code",
      "source": "client = ComputerVisionClient(endpoint, CognitiveServicesCredentials(subscription_key))",
      "execution_count": 4,
      "outputs": []
    },
    {
      "metadata": {
        "trusted": true
      },
      "cell_type": "code",
      "source": "baseURL = 'https://monaldmuck.blob.core.windows.net/myimages/'\n# https://tomyumtum.blob.core.windows.net/img/1.jpg\nimages = ['1.jpg','2.jpg','3.jpg','4.png','5.jpg','6.jpg','7.jpg','8.jpg']\nnames = ['sleepy hollow','stonehenge','utopia poster','adas','badas','tech logos','battlestarGalactica','tina fey']",
      "execution_count": 6,
      "outputs": []
    },
    {
      "metadata": {
        "trusted": true
      },
      "cell_type": "code",
      "source": "results = []\nfor image in images:\n    result = client.describe_image(baseURL + image)\n    results.append(result)",
      "execution_count": 7,
      "outputs": []
    },
    {
      "metadata": {
        "trusted": true
      },
      "cell_type": "code",
      "source": "print('image descriptions:')\ni = 0\nfor result in results:\n    if(len(result.captions)==0):\n        print('No descriptions present')\n    else:\n        for caption in result.captions:\n            print('Image title: ' + names[i])\n            print(str(caption.text))\n            print(str(caption.confidence))\n            i = i+1\n            print()\n        ",
      "execution_count": 8,
      "outputs": [
        {
          "output_type": "stream",
          "text": "image descriptions:\nImage title: sleepy hollow\na man and woman\n0.5043749809265137\n\nImage title: stonehenge\na group of people standing in a field of rocks with Stonehenge in the background\n0.3174747824668884\n\nImage title: utopia poster\nNeil Maskell in a yellow jacket\n0.393497496843338\n\nImage title: adas\ntext\n0.6977229714393616\n\nImage title: badas\na galaxy in space\n0.38181832432746887\n\nImage title: tech logos\nlogo, company name\n0.8263810276985168\n\nImage title: battlestarGalactica\na group of people posing for a photo\n0.6751797795295715\n\nImage title: tina fey\nTina Fey smiling for the camera\n0.5245742797851562\n\n",
          "name": "stdout"
        }
      ]
    },
    {
      "metadata": {
        "trusted": true
      },
      "cell_type": "code",
      "source": "# Categories (Image analysis)\n# exception handling to ignore any error-> this is production\n# in production-> you log the error into a error.txt file \n# demo only-> ignore the error \n\nanalysis = []\nfor image in images:\n    analyze = client.analyze_image(baseURL +image, ['categories'])\n    analysis.append(analyze)\n\nprint('image captions:')\n\nfor i,result in enumerate(analysis):\n    try:\n        if(len(result.categories)==0):\n            print('No descriptions present')\n        else:\n            for category in result.categories:\n                print('Image title: ' + names[i])\n                print(str(category.name))\n                print(str(category.score))\n                i = i+1\n                print()\n    except Exception as exp:\n        print(str(exp)) # in production, LOG error instead\n        pass\n        \n            ",
      "execution_count": 12,
      "outputs": [
        {
          "output_type": "stream",
          "text": "image captions:\nImage title: sleepy hollow\npeople_group\n0.51171875\n\nNo descriptions present\nImage title: utopia poster\nabstract_nonphoto\n0.203125\n\nImage title: tech logos\nothers_\n0.01171875\n\nImage title: tech logos\nothers_\n0.03515625\n\nImage title: battlestarGalactica\npeople_group\n0.73828125\n\nImage title: tina fey\npeople_portrait\n0.85546875\n\n",
          "name": "stdout"
        }
      ]
    },
    {
      "metadata": {
        "trusted": true
      },
      "cell_type": "code",
      "source": "print('object detection')\nresults = []\nfor image in images:\n    result = client.detect_objects(baseURL + image)\n    results.append(result)\nfor i,result in enumerate(results):\n    try:\n        if(len(result.objects)==0):\n            print('No descriptions present')\n        else:\n            for object in result.objects:\n                print('Image title: ' + names[i])\n                # \n                x= object.rectangle.x\n                y= object.rectangle.y\n                w=object.rectangle.w\n                h=object.rectangle.h\n                print('Object at location')\n                # 2 coordinates just for sample, we will use all 4 in usecase\n                print(str(x),',', str(y))\n                print(str(x),',', str(x+w))\n                print(str(y), ',',str(y+h))\n                print(str(x+w),',', str(y+h))\n                print()\n    except:\n        pass",
      "execution_count": 9,
      "outputs": [
        {
          "output_type": "stream",
          "text": "object detection\nImage title: sleepy hollow\nObject at location\n10 , 5\n10 , 164\n5 , 172\n164 , 172\n\nImage title: sleepy hollow\nObject at location\n144 , 40\n144 , 264\n40 , 176\n264 , 176\n\nNo descriptions present\nImage title: utopia poster\nObject at location\n46 , 246\n46 , 108\n246 , 367\n108 , 367\n\nImage title: utopia poster\nObject at location\n148 , 221\n148 , 198\n221 , 364\n198 , 364\n\nImage title: utopia poster\nObject at location\n213 , 222\n213 , 274\n222 , 369\n274 , 369\n\nImage title: utopia poster\nObject at location\n403 , 236\n403 , 464\n236 , 359\n464 , 359\n\nImage title: utopia poster\nObject at location\n306 , 196\n306 , 375\n196 , 382\n375 , 382\n\nImage title: utopia poster\nObject at location\n551 , 190\n551 , 846\n190 , 496\n846 , 496\n\nNo descriptions present\nNo descriptions present\nNo descriptions present\nImage title: battlestarGalactica\nObject at location\n0 , 41\n0 , 46\n41 , 210\n46 , 210\n\nImage title: battlestarGalactica\nObject at location\n34 , 54\n34 , 104\n54 , 215\n104 , 215\n\nImage title: battlestarGalactica\nObject at location\n82 , 48\n82 , 136\n48 , 218\n136 , 218\n\nImage title: battlestarGalactica\nObject at location\n131 , 55\n131 , 204\n55 , 213\n204 , 213\n\nImage title: battlestarGalactica\nObject at location\n207 , 52\n207 , 268\n52 , 216\n268 , 216\n\nImage title: battlestarGalactica\nObject at location\n247 , 51\n247 , 292\n51 , 215\n292 , 215\n\nImage title: tina fey\nObject at location\n758 , 502\n758 , 942\n502 , 568\n942 , 568\n\nImage title: tina fey\nObject at location\n393 , 4\n393 , 1248\n4 , 887\n1248 , 887\n\n",
          "name": "stdout"
        }
      ]
    },
    {
      "metadata": {
        "trusted": true
      },
      "cell_type": "code",
      "source": "# Known entities-> BRANDS\n\nanalysis = []\nfor image in images:\n    analyze = client.analyze_image(baseURL +image, ['brands'])\n    analysis.append(analyze)\n\nprint('image brands:')\n\nfor i,result in enumerate(analysis):\n    print('Image title: ' + names[i])\n    try:\n        print('No of brands detected:' + str(len(result.brands)))\n        for brand in result.brands:\n            print('Brand Name:' + brand.name)\n            print('Brand confidence:' + str(brand.confidence))\n            if(len(result.brands)==0):\n                print('No descriptions present')\n            else:\n               \n                x= brand.rectangle.x\n                y= brand.rectangle.y\n                w=brand.rectangle.w\n                h=brand.rectangle.h\n                print('Logo position: ' + names[i])\n                print(str(x),',', str(y))\n                print(str(x),',', str(x+w))\n                print(str(y), ',',str(y+h))\n                print(str(x+w),',', str(y+h))\n                print()\n    except Exception as exp:\n        print('Image title: ' + names[i])\n        print(str(exp)) # in production, LOG error instead\n        pass\n        \n            ",
      "execution_count": 13,
      "outputs": [
        {
          "output_type": "stream",
          "text": "image brands:\nImage title: sleepy hollow\nNo of brands detected:0\nImage title: stonehenge\nNo of brands detected:0\nImage title: utopia poster\nNo of brands detected:0\nImage title: tech logos\nNo of brands detected:3\nBrand Name:Microsoft\nBrand confidence:0.667\nLogo position: tech logos\n8 , 437\n8 , 150\n437 , 593\n150 , 593\n\nBrand Name:Apple\nBrand confidence:0.819\nLogo position: tech logos\n799 , 30\n799 , 1050\n30 , 263\n1050 , 263\n\nBrand Name:Google\nBrand confidence:0.733\nLogo position: tech logos\n1266 , 62\n1266 , 1846\n62 , 279\n1846 , 279\n\nImage title: battlestarGalactica\nNo of brands detected:0\nImage title: tina fey\nNo of brands detected:0\n",
          "name": "stdout"
        }
      ]
    },
    {
      "metadata": {
        "trusted": true
      },
      "cell_type": "code",
      "source": "#FACIAL EXTRACTION\n# Known entities-> FACES\n\nanalysis = []\nfor image in images:\n    analyze = client.analyze_image(baseURL +image, ['faces'])\n    analysis.append(analyze)\n\nprint('image faces:')\n\nfor i,result in enumerate(analysis):\n    print('Image title: ' + names[i])\n    try:\n        print('No of faces detected:' + str(len(result.faces)))\n        for face in result.faces:\n            \n            if(len(result.faces)==0):\n                print('No descriptions present')\n            else:\n                print('Face Detected:' + face.gender)\n                print('Guesstimate age:' + str(face.age))\n                x= face.face_rectangle.left\n                y= face.face_rectangle.top\n                w=face.face_rectangle.width\n                h=face.face_rectangle.height\n                print('Logo position: ' + names[i])\n                print(str(x),',', str(y))\n                print(str(x),',', str(x+w))\n                print(str(y), ',',str(y+h))\n                print(str(x+w),',', str(y+h))\n                print()\n    except Exception as exp:\n        print('Image title: ' + names[i])\n        print(str(exp)) # in production, LOG error instead\n        pass\n        \n            ",
      "execution_count": 14,
      "outputs": [
        {
          "output_type": "stream",
          "text": "image faces:\nImage title: sleepy hollow\nNo of faces detected:2\nFace Detected:Male\nGuesstimate age:34\nLogo position: sleepy hollow\n75 , 26\n75 , 119\n26 , 70\n119 , 70\n\nFace Detected:Female\nGuesstimate age:7\nLogo position: sleepy hollow\n146 , 67\n146 , 186\n67 , 107\n186 , 107\n\nImage title: stonehenge\nNo of faces detected:0\nImage title: utopia poster\nNo of faces detected:1\nFace Detected:Male\nGuesstimate age:35\nLogo position: utopia poster\n647 , 135\n647 , 720\n135 , 208\n720 , 208\n\nImage title: tech logos\nNo of faces detected:0\nImage title: battlestarGalactica\nNo of faces detected:0\nImage title: tina fey\nNo of faces detected:1\nFace Detected:Female\nGuesstimate age:38\nLogo position: tina fey\n649 , 218\n649 , 1074\n218 , 643\n1074 , 643\n\n",
          "name": "stdout"
        }
      ]
    },
    {
      "metadata": {
        "trusted": true,
        "scrolled": true
      },
      "cell_type": "code",
      "source": "# CENSORING for terrorism, nudity, hate content, profantiy, violence etc\n\nanalysis = []\nfor image in images:\n    analyze = client.analyze_image(baseURL +image, ['adult'])\n    analysis.append(analyze)\n\nprint('Hate/Profanity/Other adult content:')\n\nfor i,result in enumerate(analysis):\n    print('Image title: ' + names[i])\n    try:\n        #print('No of faces detected:' + str(len(result.faces)))\n        print('is adult content')\n        print(result.adult.is_adult_content)\n        print('is adult content confidence')\n        print(result.adult.adult_score)\n        print('is racy content')\n        print(result.adult.is_racy_content)\n        print('is racy content confidence')\n        print(result.adult.racy_score)\n        print()\n    except Exception as exp:\n        print('Image title: ' + names[i])\n        print(str(exp)) # in production, LOG error instead\n        print()\n        pass\n        \n            ",
      "execution_count": null,
      "outputs": []
    },
    {
      "metadata": {
        "trusted": true
      },
      "cell_type": "code",
      "source": "",
      "execution_count": null,
      "outputs": []
    }
  ],
  "metadata": {
    "kernelspec": {
      "name": "python36",
      "display_name": "Python 3.6",
      "language": "python"
    },
    "language_info": {
      "mimetype": "text/x-python",
      "nbconvert_exporter": "python",
      "name": "python",
      "pygments_lexer": "ipython3",
      "version": "3.6.6",
      "file_extension": ".py",
      "codemirror_mode": {
        "version": 3,
        "name": "ipython"
      }
    }
  },
  "nbformat": 4,
  "nbformat_minor": 2
}