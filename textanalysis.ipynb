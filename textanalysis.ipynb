{
  "cells": [
    {
      "metadata": {
        "trusted": true
      },
      "cell_type": "code",
      "source": "!pip install azure-ai-textanalytics",
      "execution_count": 1,
      "outputs": [
        {
          "output_type": "stream",
          "text": "Collecting azure-ai-textanalytics\n\u001b[?25l  Downloading https://files.pythonhosted.org/packages/d9/69/36ecd10aa8d7034e8716209b165d9730b0f4d4ee6853433ca05154423770/azure_ai_textanalytics-5.0.0-py2.py3-none-any.whl (55kB)\n\u001b[K     |████████████████████████████████| 61kB 259kB/s eta 0:00:01\n\u001b[?25hRequirement already satisfied: msrest>=0.6.0 in /home/nbuser/anaconda3_501/lib/python3.6/site-packages (from azure-ai-textanalytics) (0.6.10)\nRequirement already satisfied: azure-common~=1.1 in /home/nbuser/anaconda3_501/lib/python3.6/site-packages (from azure-ai-textanalytics) (1.1.23)\nCollecting azure-core<2.0.0,>=1.4.0\n\u001b[?25l  Downloading https://files.pythonhosted.org/packages/4c/fa/46974f4a7ad78b27e3eda8a573cc0c2508849f0d7d360b61c07cc5b46014/azure_core-1.8.2-py2.py3-none-any.whl (122kB)\n\u001b[K     |████████████████████████████████| 122kB 3.0MB/s eta 0:00:01\n\u001b[?25hRequirement already satisfied: six>=1.6 in /home/nbuser/anaconda3_501/lib/python3.6/site-packages (from azure-ai-textanalytics) (1.11.0)\nRequirement already satisfied: certifi>=2017.4.17 in /home/nbuser/anaconda3_501/lib/python3.6/site-packages (from msrest>=0.6.0->azure-ai-textanalytics) (2018.10.15)\nRequirement already satisfied: requests-oauthlib>=0.5.0 in /home/nbuser/anaconda3_501/lib/python3.6/site-packages (from msrest>=0.6.0->azure-ai-textanalytics) (1.3.0)\nRequirement already satisfied: isodate>=0.6.0 in /home/nbuser/anaconda3_501/lib/python3.6/site-packages (from msrest>=0.6.0->azure-ai-textanalytics) (0.6.0)\nRequirement already satisfied: requests~=2.16 in /home/nbuser/anaconda3_501/lib/python3.6/site-packages (from msrest>=0.6.0->azure-ai-textanalytics) (2.22.0)\nRequirement already satisfied: oauthlib>=3.0.0 in /home/nbuser/anaconda3_501/lib/python3.6/site-packages (from requests-oauthlib>=0.5.0->msrest>=0.6.0->azure-ai-textanalytics) (3.1.0)\nRequirement already satisfied: idna<2.9,>=2.5 in /home/nbuser/anaconda3_501/lib/python3.6/site-packages (from requests~=2.16->msrest>=0.6.0->azure-ai-textanalytics) (2.7)\nRequirement already satisfied: chardet<3.1.0,>=3.0.2 in /home/nbuser/anaconda3_501/lib/python3.6/site-packages (from requests~=2.16->msrest>=0.6.0->azure-ai-textanalytics) (3.0.4)\nRequirement already satisfied: urllib3!=1.25.0,!=1.25.1,<1.26,>=1.21.1 in /home/nbuser/anaconda3_501/lib/python3.6/site-packages (from requests~=2.16->msrest>=0.6.0->azure-ai-textanalytics) (1.23)\nInstalling collected packages: azure-core, azure-ai-textanalytics\nSuccessfully installed azure-ai-textanalytics-5.0.0 azure-core-1.8.2\n\u001b[33mWARNING: You are using pip version 19.3.1; however, version 20.2.3 is available.\nYou should consider upgrading via the 'pip install --upgrade pip' command.\u001b[0m\n",
          "name": "stdout"
        }
      ]
    },
    {
      "metadata": {
        "trusted": true
      },
      "cell_type": "code",
      "source": "key = 'bdc823e64d4943ccb42335010ff90719'\nendpoint = 'https://readerabc.cognitiveservices.azure.com/'",
      "execution_count": 2,
      "outputs": []
    },
    {
      "metadata": {
        "trusted": true
      },
      "cell_type": "code",
      "source": "from azure.ai.textanalytics import TextAnalyticsClient\nfrom azure.core.credentials import AzureKeyCredential\n\ncred = AzureKeyCredential(key)\nclient = TextAnalyticsClient(endpoint=endpoint, credential=cred)\n",
      "execution_count": 3,
      "outputs": []
    },
    {
      "metadata": {
        "trusted": true
      },
      "cell_type": "code",
      "source": "# sentiment analysis\nsentence = ['No future is also good future.',' Taxes are great because jail is bad.' , ' Maggi contains insects and fish and so do candies and chocolate.']\nsentiment = client.analyze_sentiment(documents=sentence)",
      "execution_count": 4,
      "outputs": []
    },
    {
      "metadata": {
        "trusted": true
      },
      "cell_type": "code",
      "source": "#sentiment = sent[0]\nfor s in sentiment:\n    print(s.confidence_scores.positive)\n    print(s.confidence_scores.neutral)\n    print(s.confidence_scores.negative)\n    print('****')\n    # Probability Distribution = 1 = p(p) + p(n) + n(neu)",
      "execution_count": 5,
      "outputs": [
        {
          "output_type": "stream",
          "text": "0.09\n0.01\n0.9\n****\n0.04\n0.0\n0.96\n****\n0.01\n0.98\n0.01\n****\n",
          "name": "stdout"
        }
      ]
    },
    {
      "metadata": {
        "trusted": true
      },
      "cell_type": "code",
      "source": "# Language Detection\nsentence = ['Como estais amigo?','Merci! quest que tse?', 'Du hast mesh!', 'No habla espanol']\nlanguages = client.detect_language(documents=sentence)",
      "execution_count": 6,
      "outputs": []
    },
    {
      "metadata": {
        "trusted": true
      },
      "cell_type": "code",
      "source": "for language in languages:\n    print(language.primary_language.name)",
      "execution_count": 7,
      "outputs": [
        {
          "output_type": "stream",
          "text": "Spanish\nFrench\nGerman\nSpanish\n",
          "name": "stdout"
        }
      ]
    },
    {
      "metadata": {
        "trusted": true
      },
      "cell_type": "code",
      "source": "# Named Entity Recognition\nsentences = ['Bandar Seri Begawan is capital of Brunei','mantis shrimp can see colors we cant','Om Puri had a hollywood stint','The mountain and surf excel was really tall.', 'The Taj Mahal is not in The Himalayas']\nents = client.recognize_entities(documents=sentences)",
      "execution_count": 8,
      "outputs": []
    },
    {
      "metadata": {
        "trusted": true
      },
      "cell_type": "code",
      "source": "for ent in ents:\n    for ne in ent.entities:\n        print(ne.text)\n        print(ne.category)\n        print(ne.subcategory)\n        print(ne.confidence_score)\n        print('****')",
      "execution_count": 9,
      "outputs": [
        {
          "output_type": "stream",
          "text": "Bandar Seri Begawan\nLocation\nNone\n0.47\n****\nBrunei\nLocation\nGPE\n0.73\n****\nmantis shrimp\nProduct\nNone\n0.47\n****\nOm Puri\nPerson\nNone\n0.79\n****\nhollywood\nLocation\nGPE\n0.4\n****\nmountain\nLocation\nGeographical\n0.68\n****\nTaj Mahal\nLocation\nNone\n0.74\n****\nThe Himalayas\nLocation\nNone\n0.35\n****\n",
          "name": "stdout"
        }
      ]
    },
    {
      "metadata": {
        "trusted": true
      },
      "cell_type": "code",
      "source": "",
      "execution_count": null,
      "outputs": []
    }
  ],
  "metadata": {
    "kernelspec": {
      "name": "python36",
      "display_name": "Python 3.6",
      "language": "python"
    },
    "language_info": {
      "mimetype": "text/x-python",
      "nbconvert_exporter": "python",
      "name": "python",
      "pygments_lexer": "ipython3",
      "version": "3.6.6",
      "file_extension": ".py",
      "codemirror_mode": {
        "version": 3,
        "name": "ipython"
      }
    }
  },
  "nbformat": 4,
  "nbformat_minor": 2
}